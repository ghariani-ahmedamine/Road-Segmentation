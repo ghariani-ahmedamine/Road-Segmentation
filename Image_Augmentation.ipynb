{
 "cells": [
  {
   "cell_type": "code",
   "execution_count": 1,
   "metadata": {},
   "outputs": [],
   "source": [
    "import cv2"
   ]
  },
  {
   "cell_type": "code",
   "execution_count": null,
   "metadata": {},
   "outputs": [],
   "source": [
    "image_directory = 'data/training/images'\n",
    "gt_directory = 'data/training/groundtruth'\n",
    "SIZE = 608\n",
    "image_names = glob.glob(image_directory + '/*.png')\n",
    "images = [cv2.resize(cv2.imread(img),(SIZE,SIZE)) for img in image_names]\n",
    "\n",
    "gt_names = glob.glob(gt_directory + '/*.png')\n",
    "gt = [cv2.resize(cv2.imread(gt,0),(SIZE,SIZE)) for gt in gt_names]\n"
   ]
  },
  {
   "cell_type": "code",
   "execution_count": null,
   "metadata": {},
   "outputs": [],
   "source": [
    "def horizontal_flip(img, flag):\n",
    "    if flag:\n",
    "        return cv2.flip(img, 1)\n",
    "    else:\n",
    "        return imgimg = horizontal_flip(img, True)"
   ]
  }
 ],
 "metadata": {
  "kernelspec": {
   "display_name": "Python 3",
   "language": "python",
   "name": "python3"
  },
  "language_info": {
   "codemirror_mode": {
    "name": "ipython",
    "version": 3
   },
   "file_extension": ".py",
   "mimetype": "text/x-python",
   "name": "python",
   "nbconvert_exporter": "python",
   "pygments_lexer": "ipython3",
   "version": "3.8.3"
  }
 },
 "nbformat": 4,
 "nbformat_minor": 4
}
