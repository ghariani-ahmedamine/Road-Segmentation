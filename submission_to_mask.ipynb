{
 "cells": [
  {
   "cell_type": "code",
   "execution_count": 8,
   "id": "cabb8a59-421f-40da-addb-18e45abb8f09",
   "metadata": {},
   "outputs": [],
   "source": [
    "import os\n",
    "import sys\n",
    "from PIL import Image\n",
    "import math\n",
    "import matplotlib.image as mpimg\n",
    "import numpy as np\n",
    "\n",
    "label_file = 'dummy_submission.csv'\n",
    "\n",
    "h = 16\n",
    "w = h\n",
    "imgwidth = int(math.ceil((608.0/w))*w)\n",
    "imgheight = int(math.ceil((608.0/h))*h)\n",
    "nc = 3\n",
    "\n",
    "# Convert an array of binary labels to a uint8\n",
    "def binary_to_uint8(img):\n",
    "    rimg = (img * 255).round().astype(np.uint8)\n",
    "    return rimg\n",
    "\n",
    "def reconstruct_from_labels(image_id):\n",
    "    im = np.zeros((imgwidth, imgheight), dtype=np.uint8)\n",
    "    f = open(label_file)\n",
    "    lines = f.readlines()\n",
    "    image_id_str = '%.3d_' % image_id\n",
    "    for i in range(1, len(lines)):\n",
    "        line = lines[i]\n",
    "        if not image_id_str in line:\n",
    "            continue\n",
    "\n",
    "        tokens = line.split(',')\n",
    "        id = tokens[0]\n",
    "        prediction = int(tokens[1])\n",
    "        tokens = id.split('_')\n",
    "        i = int(tokens[1])\n",
    "        j = int(tokens[2])\n",
    "\n",
    "        je = min(j+w, imgwidth)\n",
    "        ie = min(i+h, imgheight)\n",
    "        if prediction == 0:\n",
    "            adata = np.zeros((w,h))\n",
    "        else:\n",
    "            adata = np.ones((w,h))\n",
    "\n",
    "        im[j:je, i:ie] = binary_to_uint8(adata)\n",
    "\n",
    "    Image.fromarray(im).save('prediction/prediction_' + '%.3d' % image_id + '.png')\n",
    "\n",
    "    return im\n",
    "\n",
    "\n"
   ]
  },
  {
   "cell_type": "code",
   "execution_count": 9,
   "id": "36c6f658-0742-4e5e-8c5e-bd9f93782b30",
   "metadata": {},
   "outputs": [],
   "source": [
    "for i in range(1, 5):\n",
    "    reconstruct_from_labels(i)\n",
    "   "
   ]
  },
  {
   "cell_type": "code",
   "execution_count": null,
   "id": "bed75010-7c9d-43d6-b44a-db30ede53f54",
   "metadata": {},
   "outputs": [],
   "source": []
  }
 ],
 "metadata": {
  "kernelspec": {
   "display_name": "Python 3 (ipykernel)",
   "language": "python",
   "name": "python3"
  },
  "language_info": {
   "codemirror_mode": {
    "name": "ipython",
    "version": 3
   },
   "file_extension": ".py",
   "mimetype": "text/x-python",
   "name": "python",
   "nbconvert_exporter": "python",
   "pygments_lexer": "ipython3",
   "version": "3.9.5"
  }
 },
 "nbformat": 4,
 "nbformat_minor": 5
}
